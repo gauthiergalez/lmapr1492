{
 "cells": [
  {
   "cell_type": "code",
   "execution_count": 1,
   "id": "8de73ef3",
   "metadata": {},
   "outputs": [],
   "source": [
    "from pymatgen.ext.matproj import MPRester"
   ]
  },
  {
   "cell_type": "code",
   "execution_count": 2,
   "id": "e77e0877",
   "metadata": {},
   "outputs": [],
   "source": [
    "with MPRester(\"Dgm7hLo14n65cHTX\") as m:\n",
    "\n",
    "    structure = m.get_structure_by_material_id(\"mp-9437\")"
   ]
  },
  {
   "cell_type": "code",
   "execution_count": 3,
   "id": "58f34163",
   "metadata": {},
   "outputs": [],
   "source": [
    "structure.to(filename = \"NbFeSb.cif\")"
   ]
  }
 ],
 "metadata": {
  "kernelspec": {
   "display_name": "Python 3",
   "language": "python",
   "name": "python3"
  },
  "language_info": {
   "codemirror_mode": {
    "name": "ipython",
    "version": 3
   },
   "file_extension": ".py",
   "mimetype": "text/x-python",
   "name": "python",
   "nbconvert_exporter": "python",
   "pygments_lexer": "ipython3",
   "version": "3.6.8"
  }
 },
 "nbformat": 4,
 "nbformat_minor": 5
}
