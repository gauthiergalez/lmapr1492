{
 "cells": [
  {
   "cell_type": "code",
   "execution_count": 1,
   "id": "a78ef89b",
   "metadata": {},
   "outputs": [],
   "source": [
    "from pymatgen.ext.matproj import MPRester\n",
    "from pymatgen.core.lattice import Lattice\n",
    "from pymatgen.symmetry.analyzer import SpacegroupAnalyzer\n",
    "from tabulate import tabulate"
   ]
  },
  {
   "cell_type": "code",
   "execution_count": 2,
   "id": "f72b2731",
   "metadata": {},
   "outputs": [],
   "source": [
    "# Télécharge le ﬁchier CIF du matériau mp-9437 et le convertit dans des structures pymatgen voulues\n",
    "\n",
    "with MPRester(\"Dgm7hLo14n65cHTX\") as m:\n",
    "\n",
    "    structure = m.get_structure_by_material_id(\"mp-9437\")    \n",
    "    \n",
    "cristal = Lattice.from_dict(structure.as_dict()['lattice'])\n",
    "cristal_espace = SpacegroupAnalyzer(structure)"
   ]
  },
  {
   "cell_type": "code",
   "execution_count": 3,
   "id": "8106918f",
   "metadata": {},
   "outputs": [
    {
     "name": "stdout",
     "output_type": "stream",
     "text": [
      "Les vecteurs du réseau direct du NbFeSb (mp-9437) :\n",
      "-  -------------------------\n",
      "a  [0.0, 2.984496, 2.984496]\n",
      "b  [2.984496, 0.0, 2.984496]\n",
      "c  [2.984496, 2.984496, 0.0]\n",
      "-  -------------------------\n",
      "\n",
      "Les vecteurs du réseau réciproque du NbFeSb (mp-9437) :\n",
      "--  -------------------------------------------------------------\n",
      "a*  [-1.0526375822215186, 1.0526375822215186, 1.0526375822215186]\n",
      "b*  [1.0526375822215186, -1.0526375822215186, 1.0526375822215186]\n",
      "c*  [1.0526375822215186, 1.0526375822215186, -1.0526375822215186]\n",
      "--  -------------------------------------------------------------\n",
      "\n",
      "Le type de maille du NbFeSb (mp-9437) (en anglais) :  cubic\n",
      "\n",
      "Le système cristallin du NbFeSb (mp-9437) (en anglais) :  cubic\n",
      "\n",
      "Le groupe ponctuel du NbFeSb (mp-9437) :  -43m\n"
     ]
    }
   ],
   "source": [
    "# Récupère et affiche les vecteurs du réseau direct du NbFeSb\n",
    "\n",
    "lattice = cristal.as_dict()\n",
    "\n",
    "print(\"Les vecteurs du réseau direct du NbFeSb (mp-9437) :\")\n",
    "print(tabulate([['a',lattice['matrix'][0]],\n",
    "                ['b',lattice['matrix'][1]],\n",
    "                ['c',lattice['matrix'][2]]]))\n",
    "\n",
    "# Récupère et affiche les vecteurs du réseau réciproque du NbFeSb\n",
    "\n",
    "reciprocal_lattice = cristal.reciprocal_lattice.as_dict()\n",
    "\n",
    "print(\"\\nLes vecteurs du réseau réciproque du NbFeSb (mp-9437) :\")\n",
    "print(tabulate([['a*',reciprocal_lattice['matrix'][0]],\n",
    "                ['b*',reciprocal_lattice['matrix'][1]],\n",
    "                ['c*',reciprocal_lattice['matrix'][2]]]))\n",
    "\n",
    "# Affiche le type de maille du NbFeSb\n",
    "\n",
    "print(\"\\nLe type de maille du NbFeSb (mp-9437) (en anglais) : \", cristal_espace.get_lattice_type())\n",
    "\n",
    "# Affiche le système cristallin du NbFeSb\n",
    "\n",
    "print(\"\\nLe système cristallin du NbFeSb (mp-9437) (en anglais) : \", cristal_espace.get_crystal_system())\n",
    "\n",
    "# Affiche le groupe ponctuel du NbFeSb\n",
    "\n",
    "print(\"\\nLe groupe ponctuel du NbFeSb (mp-9437) : \", cristal_espace.get_point_group_symbol())"
   ]
  }
 ],
 "metadata": {
  "kernelspec": {
   "display_name": "Python 3",
   "language": "python",
   "name": "python3"
  },
  "language_info": {
   "codemirror_mode": {
    "name": "ipython",
    "version": 3
   },
   "file_extension": ".py",
   "mimetype": "text/x-python",
   "name": "python",
   "nbconvert_exporter": "python",
   "pygments_lexer": "ipython3",
   "version": "3.6.8"
  }
 },
 "nbformat": 4,
 "nbformat_minor": 5
}
