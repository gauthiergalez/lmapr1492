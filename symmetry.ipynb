{
 "cells": [
  {
   "cell_type": "code",
   "execution_count": 1,
   "id": "fb0e538e",
   "metadata": {},
   "outputs": [],
   "source": [
    "from pymatgen.ext.matproj import MPRester\n",
    "from pymatgen import Structure\n",
    "from pymatgen.symmetry.analyzer import SpacegroupAnalyzer\n",
    "from jupyter_jsmol.pymatgen import quick_view\n",
    "from pymatgen.core.operations import SymmOp\n",
    "from IPython.display import Image"
   ]
  },
  {
   "cell_type": "code",
   "execution_count": 2,
   "id": "3337ff6d",
   "metadata": {},
   "outputs": [],
   "source": [
    "# Télécharge le ﬁchier CIF du matériau mp-9437 et le convertit en un dictionnaire afin d'accéder\n",
    "# aux caractéristiques de la structure et en une structure de SpacegroupAnalyzer afin d'accéder \n",
    "# aux opérations de symétrie.\n",
    "\n",
    "with MPRester(\"Dgm7hLo14n65cHTX\") as m:\n",
    "\n",
    "    structure = m.get_structure_by_material_id(\"mp-9437\")   \n",
    "\n",
    "structure_dict = structure.as_dict()\n",
    "SA_structure = SpacegroupAnalyzer(structure)"
   ]
  },
  {
   "cell_type": "markdown",
   "id": "e5e6d9ef",
   "metadata": {},
   "source": [
    "## Maille originelle\n",
    "\n",
    "On affiche d'abord la maille sans qu'aucune action de symétrie n'ait été appliquée. "
   ]
  },
  {
   "cell_type": "code",
   "execution_count": 3,
   "id": "74a33495",
   "metadata": {},
   "outputs": [
    {
     "data": {
      "application/vnd.jupyter.widget-view+json": {
       "model_id": "fc2f70b4913540b3994369bfd6b90b9d",
       "version_major": 2,
       "version_minor": 0
      },
      "text/plain": [
       "JsmolView(layout=Layout(align_self='stretch', height='400px'))"
      ]
     },
     "metadata": {},
     "output_type": "display_data"
    },
    {
     "name": "stdout",
     "output_type": "stream",
     "text": [
      "\n",
      "L'atome de Nb se trouve en :  [0.0, 0.0, 0.0]\n",
      "L'atome de Fe se trouve en :  [0.25, 0.25, 0.25]\n",
      "L'atome de Sb se trouve en :  [0.5, 0.5, 0.5]\n"
     ]
    }
   ],
   "source": [
    "# Visualisation de la maille originale\n",
    "\n",
    "view1 = quick_view(structure)\n",
    "display(view1)\n",
    "\n",
    "# Pour une visualisation sur github\n",
    "\n",
    "Image(filename='Maille.jpg')\n",
    "\n",
    "# Obtention des coordonnées des différents atomes de la maille\n",
    "\n",
    "Nb = structure_dict.get('sites')[0]['abc']\n",
    "Fe = structure_dict.get('sites')[1]['abc']\n",
    "Sb = structure_dict.get('sites')[2]['abc']\n",
    "\n",
    "# Affichage des coordonnées des différents atomes de la maille\n",
    "\n",
    "print(\"\\nL'atome de Nb se trouve en : \", Nb)\n",
    "print(\"L'atome de Fe se trouve en : \", Fe)\n",
    "print(\"L'atome de Sb se trouve en : \", Sb)"
   ]
  },
  {
   "cell_type": "markdown",
   "id": "776295a7",
   "metadata": {},
   "source": [
    "## Symétrie pour l'atome de nobium\n",
    "\n",
    "Pour ce premier atome, dont les coordonnées réduites sont $(0,0,0)$, on applique une réflexion du plan $(x,y,z)$."
   ]
  },
  {
   "cell_type": "code",
   "execution_count": 4,
   "id": "cb77b4c0",
   "metadata": {},
   "outputs": [
    {
     "data": {
      "application/vnd.jupyter.widget-view+json": {
       "model_id": "78bae6e15e10469ba1476328834437c1",
       "version_major": 2,
       "version_minor": 0
      },
      "text/plain": [
       "JsmolView(layout=Layout(align_self='stretch', height='400px'))"
      ]
     },
     "metadata": {},
     "output_type": "display_data"
    },
    {
     "name": "stdout",
     "output_type": "stream",
     "text": [
      "La matrice de la symétrie, Rot, et le vecteur de translation, tau : \n",
      " Rot:\n",
      "[[1. 0. 0.]\n",
      " [0. 0. 1.]\n",
      " [0. 1. 0.]]\n",
      "tau\n",
      "[0. 0. 0.] \n",
      "\n",
      "Position originelle de l'atome de fer :  [0.0, 0.0, 0.0] \n",
      "\n",
      "Position après rotation de l'atome de fer :  [0. 0. 0.]\n"
     ]
    }
   ],
   "source": [
    "# Choix de la symétrie\n",
    "\n",
    "Nb_sym = SA_structure.get_symmetry_operations()[19]\n",
    "\n",
    "# Affichage dans Jupyter Notebook\n",
    "\n",
    "view2 = quick_view(structure)\n",
    "display(view2)\n",
    "view2.script(\"draw symop 20 {atomno=1}\")\n",
    "\n",
    "# Affichage dans GitHub\n",
    "\n",
    "Image(filename='Nb_sym.jpg')\n",
    "\n",
    "# Affichage des caractéristiques de la symétrie\n",
    "\n",
    "print(\"La matrice de la symétrie, Rot, et le vecteur de translation, tau : \\n\", Nb_sym, \"\\n\")\n",
    "\n",
    "print(\"Position originelle de l'atome de fer : \", Nb, \"\\n\")\n",
    "\n",
    "print(\"Position après rotation de l'atome de fer : \", Nb_sym.operate(Nb))"
   ]
  },
  {
   "cell_type": "markdown",
   "id": "73ce96ae",
   "metadata": {},
   "source": [
    "## Symétrie pour l'atome de fer\n",
    "\n",
    "Pour ce premier atome, dont les coordonnées réduites sont en $(0.25, 0.25, 0.25)$, on applique une rotation d'axe C3 : $(x,y,z)\\to(x,z,-x-y-z)$.  "
   ]
  },
  {
   "cell_type": "code",
   "execution_count": 5,
   "id": "bd32336a",
   "metadata": {},
   "outputs": [
    {
     "data": {
      "application/vnd.jupyter.widget-view+json": {
       "model_id": "c5a52987bb00463eb16621f8e4eb214c",
       "version_major": 2,
       "version_minor": 0
      },
      "text/plain": [
       "JsmolView(layout=Layout(align_self='stretch', height='400px'))"
      ]
     },
     "metadata": {},
     "output_type": "display_data"
    },
    {
     "name": "stdout",
     "output_type": "stream",
     "text": [
      "La matrice de la symétrie, Rot, et le vecteur de translation, tau : \n",
      " Rot:\n",
      "[[ 1.  0.  0.]\n",
      " [ 0.  0.  1.]\n",
      " [-1. -1. -1.]]\n",
      "tau\n",
      "[0. 0. 0.] \n",
      "\n",
      "Position originelle de l'atome de fer :  [0.25, 0.25, 0.25] \n",
      "\n",
      "Position après rotation de l'atome de fer :  [ 0.25  0.25 -0.75]\n"
     ]
    }
   ],
   "source": [
    "# Choix de la symétrie\n",
    "\n",
    "Fe_sym = SA_structure.get_symmetry_operations()[22]\n",
    "\n",
    "# Affichage dans Jupyter Notebook\n",
    "\n",
    "view3 = quick_view(structure)\n",
    "view3.script(\"draw symop 23 {atomno=2}\")\n",
    "display(view3)\n",
    "\n",
    "# Pour une visualisation sur github\n",
    "\n",
    "Image(filename='Fe_sym.jpg')\n",
    "\n",
    "# Affichage des caractéristiques de la symétrie\n",
    "\n",
    "print(\"La matrice de la symétrie, Rot, et le vecteur de translation, tau : \\n\", Fe_sym, \"\\n\")\n",
    "\n",
    "print(\"Position originelle de l'atome de fer : \", Fe, \"\\n\")\n",
    "\n",
    "print(\"Position après rotation de l'atome de fer : \", Fe_sym.operate(Fe))"
   ]
  },
  {
   "cell_type": "markdown",
   "id": "f33a1c65",
   "metadata": {},
   "source": [
    "## Symétrie pour l'atome d'antimoine\n",
    "\n",
    "Pour ce premier atome, dont les coordonnées réduites sont en $(0.5,0.5,0.5)$, on applique une roto-inversion telle que : $(x,y,z)\\to(z,x,-x-y-z)$"
   ]
  },
  {
   "cell_type": "code",
   "execution_count": 6,
   "id": "3f960d55",
   "metadata": {},
   "outputs": [
    {
     "data": {
      "application/vnd.jupyter.widget-view+json": {
       "model_id": "f79cd086096549178afde4c20dd49b98",
       "version_major": 2,
       "version_minor": 0
      },
      "text/plain": [
       "JsmolView(layout=Layout(align_self='stretch', height='400px'))"
      ]
     },
     "metadata": {},
     "output_type": "display_data"
    },
    {
     "name": "stdout",
     "output_type": "stream",
     "text": [
      "La matrice de la symétrie, Rot, et le vecteur de translation, tau : \n",
      " Rot:\n",
      "[[ 0.  0.  1.]\n",
      " [ 1.  0.  0.]\n",
      " [-1. -1. -1.]]\n",
      "tau\n",
      "[0. 0. 0.] \n",
      "\n",
      "Position originelle de l'atome de fer :  [0.5, 0.5, 0.5] \n",
      "\n",
      "Position après rotation de l'atome de fer :  [ 0.5  0.5 -1.5]\n"
     ]
    }
   ],
   "source": [
    "# Choix de la symétrie\n",
    "\n",
    "Sb_sym = SA_structure.get_symmetry_operations()[17]\n",
    "\n",
    "# Affichage dans Jupyter Notebook\n",
    "\n",
    "view4 = quick_view(structure)\n",
    "display(view4)\n",
    "view4.script(\"draw symop 18 {atomno=3}\")\n",
    "\n",
    "# Affichage dans Jupyter Notebook GitHub\n",
    "\n",
    "Image(filename='Sb_sym.jpg')\n",
    "\n",
    "# Affichage des caractéristiques de la symétrie\n",
    "\n",
    "print(\"La matrice de la symétrie, Rot, et le vecteur de translation, tau : \\n\", Sb_sym, \"\\n\")\n",
    "\n",
    "print(\"Position originelle de l'atome de fer : \", Sb, \"\\n\")\n",
    "\n",
    "print(\"Position après rotation de l'atome de fer : \", Sb_sym.operate(Sb))"
   ]
  }
 ],
 "metadata": {
  "kernelspec": {
   "display_name": "Python 3",
   "language": "python",
   "name": "python3"
  },
  "language_info": {
   "codemirror_mode": {
    "name": "ipython",
    "version": 3
   },
   "file_extension": ".py",
   "mimetype": "text/x-python",
   "name": "python",
   "nbconvert_exporter": "python",
   "pygments_lexer": "ipython3",
   "version": "3.6.8"
  }
 },
 "nbformat": 4,
 "nbformat_minor": 5
}
